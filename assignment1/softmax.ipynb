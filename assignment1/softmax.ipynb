{
 "cells": [
  {
   "cell_type": "markdown",
   "metadata": {
    "tags": [
     "pdf-title"
    ]
   },
   "source": [
    "# Softmax exercise\n",
    "\n",
    "*Complete and hand in this completed worksheet (including its outputs and any supporting code outside of the worksheet) with your assignment submission. For more details see the course website.*\n",
    "\n",
    "This exercise is analogous to the SVM exercise. You will:\n",
    "\n",
    "- implement a fully-vectorized **loss function** for the Softmax classifier\n",
    "- implement the fully-vectorized expression for its **analytic gradient**\n",
    "- **check your implementation** with numerical gradient\n",
    "- use a validation set to **tune the learning rate and regularization** strengths\n",
    "- **optimize** the loss function with **SGD**\n",
    "- **visualize** the final learned weights\n"
   ]
  },
  {
   "cell_type": "code",
   "execution_count": 1,
   "metadata": {
    "tags": [
     "pdf-ignore"
    ]
   },
   "outputs": [],
   "source": [
    "import random\n",
    "import numpy as np\n",
    "from comp411.data_utils import load_CIFAR10\n",
    "import matplotlib.pyplot as plt\n",
    "\n",
    "%matplotlib inline\n",
    "plt.rcParams['figure.figsize'] = (10.0, 8.0) # set default size of plots\n",
    "plt.rcParams['image.interpolation'] = 'nearest'\n",
    "plt.rcParams['image.cmap'] = 'gray'\n",
    "\n",
    "# for auto-reloading extenrnal modules\n",
    "# see http://stackoverflow.com/questions/1907993/autoreload-of-modules-in-ipython\n",
    "%load_ext autoreload\n",
    "%autoreload 2"
   ]
  },
  {
   "cell_type": "code",
   "execution_count": 2,
   "metadata": {
    "tags": [
     "pdf-ignore"
    ]
   },
   "outputs": [
    {
     "name": "stdout",
     "output_type": "stream",
     "text": [
      "Train data shape:  (49000, 3073)\n",
      "Train labels shape:  (49000,)\n",
      "Validation data shape:  (1000, 3073)\n",
      "Validation labels shape:  (1000,)\n",
      "Test data shape:  (1000, 3073)\n",
      "Test labels shape:  (1000,)\n",
      "dev data shape:  (500, 3073)\n",
      "dev labels shape:  (500,)\n"
     ]
    }
   ],
   "source": [
    "def get_CIFAR10_data(num_training=49000, num_validation=1000, num_test=1000, num_dev=500):\n",
    "    \"\"\"\n",
    "    Load the CIFAR-10 dataset from disk and perform preprocessing to prepare\n",
    "    it for the linear classifier. These are the same steps as we used for the\n",
    "    SVM, but condensed to a single function.  \n",
    "    \"\"\"\n",
    "    # Load the raw CIFAR-10 data\n",
    "    cifar10_dir = 'comp411/datasets/cifar-10-batches-py'\n",
    "    \n",
    "    # Cleaning up variables to prevent loading data multiple times (which may cause memory issue)\n",
    "    try:\n",
    "       del X_train, y_train\n",
    "       del X_test, y_test\n",
    "       print('Clear previously loaded data.')\n",
    "    except:\n",
    "       pass\n",
    "\n",
    "    X_train, y_train, X_test, y_test = load_CIFAR10(cifar10_dir)\n",
    "    \n",
    "    # subsample the data\n",
    "    mask = list(range(num_training, num_training + num_validation))\n",
    "    X_val = X_train[mask]\n",
    "    y_val = y_train[mask]\n",
    "    mask = list(range(num_training))\n",
    "    X_train = X_train[mask]\n",
    "    y_train = y_train[mask]\n",
    "    mask = list(range(num_test))\n",
    "    X_test = X_test[mask]\n",
    "    y_test = y_test[mask]\n",
    "    mask = np.random.choice(num_training, num_dev, replace=False)\n",
    "    X_dev = X_train[mask]\n",
    "    y_dev = y_train[mask]\n",
    "    \n",
    "    # Preprocessing: reshape the image data into rows\n",
    "    X_train = np.reshape(X_train, (X_train.shape[0], -1))\n",
    "    X_val = np.reshape(X_val, (X_val.shape[0], -1))\n",
    "    X_test = np.reshape(X_test, (X_test.shape[0], -1))\n",
    "    X_dev = np.reshape(X_dev, (X_dev.shape[0], -1))\n",
    "    \n",
    "    # Normalize the data: subtract the mean image\n",
    "    mean_image = np.mean(X_train, axis = 0)\n",
    "    X_train -= mean_image\n",
    "    X_val -= mean_image\n",
    "    X_test -= mean_image\n",
    "    X_dev -= mean_image\n",
    "    \n",
    "    # add bias dimension and transform into columns\n",
    "    X_train = np.hstack([X_train, np.ones((X_train.shape[0], 1))])\n",
    "    X_val = np.hstack([X_val, np.ones((X_val.shape[0], 1))])\n",
    "    X_test = np.hstack([X_test, np.ones((X_test.shape[0], 1))])\n",
    "    X_dev = np.hstack([X_dev, np.ones((X_dev.shape[0], 1))])\n",
    "    \n",
    "    return X_train, y_train, X_val, y_val, X_test, y_test, X_dev, y_dev\n",
    "\n",
    "\n",
    "# Invoke the above function to get our data.\n",
    "X_train, y_train, X_val, y_val, X_test, y_test, X_dev, y_dev = get_CIFAR10_data()\n",
    "print('Train data shape: ', X_train.shape)\n",
    "print('Train labels shape: ', y_train.shape)\n",
    "print('Validation data shape: ', X_val.shape)\n",
    "print('Validation labels shape: ', y_val.shape)\n",
    "print('Test data shape: ', X_test.shape)\n",
    "print('Test labels shape: ', y_test.shape)\n",
    "print('dev data shape: ', X_dev.shape)\n",
    "print('dev labels shape: ', y_dev.shape)"
   ]
  },
  {
   "cell_type": "markdown",
   "metadata": {},
   "source": [
    "## Softmax Classifier\n",
    "\n",
    "Your code for this section will all be written inside **comp411/classifiers/softmax.py**. \n"
   ]
  },
  {
   "cell_type": "code",
   "execution_count": 3,
   "metadata": {},
   "outputs": [
    {
     "name": "stdout",
     "output_type": "stream",
     "text": [
      "loss: 2.293011\n",
      "sanity check: 2.302585\n"
     ]
    }
   ],
   "source": [
    "# First implement the naive softmax loss function with nested loops.\n",
    "# Open the file comp411/classifiers/softmax.py and implement the\n",
    "# softmax_loss_naive function.\n",
    "\n",
    "from comp411.classifiers.softmax import softmax_loss_naive\n",
    "import time\n",
    "\n",
    "# Generate a random softmax weight matrix and use it to compute the loss.\n",
    "W = np.random.randn(3073, 10) * 0.0001\n",
    "loss, grad = softmax_loss_naive(W, X_dev, y_dev, 0.0, 0.0)\n",
    "\n",
    "# As a rough sanity check, our loss should be something close to -log(0.1).\n",
    "print('loss: %f' % loss)\n",
    "print('sanity check: %f' % (-np.log(0.1)))"
   ]
  },
  {
   "cell_type": "markdown",
   "metadata": {
    "tags": [
     "pdf-inline"
    ]
   },
   "source": [
    "**Inline Question 1**\n",
    "\n",
    "Why do we expect our loss to be close to -log(0.1)? Explain briefly.**\n",
    "\n",
    "$\\color{blue}{\\textit Your Answer:}$ * We initialize the weights close to 0, we basically choose randomly, since error is -log(1/num o classes), we have - log(0.1)* \n"
   ]
  },
  {
   "cell_type": "code",
   "execution_count": 4,
   "metadata": {},
   "outputs": [
    {
     "name": "stdout",
     "output_type": "stream",
     "text": [
      "numerical: 0.808005 analytic: 0.808005, relative error: 3.165416e-08\n",
      "numerical: -5.433944 analytic: -5.433944, relative error: 5.086264e-09\n",
      "numerical: 1.897906 analytic: 1.897906, relative error: 2.190448e-08\n",
      "numerical: -4.430232 analytic: -4.430232, relative error: 8.641019e-09\n",
      "numerical: -0.169593 analytic: -0.169593, relative error: 3.736814e-08\n",
      "numerical: -3.236103 analytic: -3.236103, relative error: 1.164477e-08\n",
      "numerical: -2.625592 analytic: -2.625592, relative error: 1.382717e-08\n",
      "numerical: 0.141504 analytic: 0.141504, relative error: 2.308066e-07\n",
      "numerical: 0.739886 analytic: 0.739886, relative error: 2.717287e-08\n",
      "numerical: 1.103515 analytic: 1.103515, relative error: 1.307828e-08\n",
      "numerical: 50.436324 analytic: 0.438252, relative error: 9.827713e-01\n",
      "numerical: 53.048478 analytic: 3.039342, relative error: 8.916220e-01\n",
      "numerical: 51.297808 analytic: 1.284852, relative error: 9.511302e-01\n",
      "numerical: 50.858633 analytic: 0.859840, relative error: 9.667492e-01\n",
      "numerical: 48.862195 analytic: -1.138422, relative error: 1.000000e+00\n",
      "numerical: 51.670981 analytic: 1.671999, relative error: 9.373114e-01\n",
      "numerical: 49.372623 analytic: -0.625249, relative error: 1.000000e+00\n",
      "numerical: 48.272958 analytic: -1.727560, relative error: 1.000000e+00\n",
      "numerical: 50.354851 analytic: 0.348153, relative error: 9.862670e-01\n",
      "numerical: 51.387949 analytic: 1.390237, relative error: 9.473177e-01\n"
     ]
    }
   ],
   "source": [
    "# Complete the implementation of softmax_loss_naive and implement a (naive)\n",
    "# version of the gradient that uses nested loops.\n",
    "loss, grad = softmax_loss_naive(W, X_dev, y_dev, 0.0, 0.0)\n",
    "\n",
    "# As we did for the SVM, use numeric gradient checking as a debugging tool.\n",
    "# The numeric gradient should be close to the analytic gradient.\n",
    "from comp411.gradient_check import grad_check_sparse\n",
    "f = lambda w: softmax_loss_naive(w, X_dev, y_dev, 0.0, 0.0)[0]\n",
    "grad_numerical = grad_check_sparse(f, W, grad, 10)\n",
    "\n",
    "# similar to SVM case, do another gradient check with regularizations\n",
    "loss, grad = softmax_loss_naive(W, X_dev, y_dev, 5e1, 5e1)\n",
    "f = lambda w: softmax_loss_naive(w, X_dev, y_dev, 5e1, 5e1)[0]\n",
    "grad_numerical = grad_check_sparse(f, W, grad, 10)"
   ]
  },
  {
   "cell_type": "code",
   "execution_count": 5,
   "metadata": {},
   "outputs": [
    {
     "name": "stdout",
     "output_type": "stream",
     "text": [
      "naive loss: 2.293011e+00 computed in 0.203528s\n",
      "vectorized loss: 2.293011e+00 computed in 0.012833s\n",
      "Loss difference: 0.000000\n",
      "Gradient difference: 0.000000\n"
     ]
    }
   ],
   "source": [
    "# Now that we have a naive implementation of the softmax loss function and its gradient,\n",
    "# implement a vectorized version in softmax_loss_vectorized.\n",
    "# The two versions should compute the same results, but the vectorized version should be\n",
    "# much faster.\n",
    "tic = time.time()\n",
    "loss_naive, grad_naive = softmax_loss_naive(W, X_dev, y_dev, 0.000005, 0.000005)\n",
    "toc = time.time()\n",
    "print('naive loss: %e computed in %fs' % (loss_naive, toc - tic))\n",
    "\n",
    "from comp411.classifiers.softmax import softmax_loss_vectorized\n",
    "tic = time.time()\n",
    "loss_vectorized, grad_vectorized = softmax_loss_vectorized(W, X_dev, y_dev, 0.000005, 0.000005)\n",
    "toc = time.time()\n",
    "print('vectorized loss: %e computed in %fs' % (loss_vectorized, toc - tic))\n",
    "\n",
    "# As we did for the SVM, we use the Frobenius norm to compare the two versions\n",
    "# of the gradient.\n",
    "grad_difference = np.linalg.norm(grad_naive - grad_vectorized, ord='fro')\n",
    "print('Loss difference: %f' % np.abs(loss_naive - loss_vectorized))\n",
    "print('Gradient difference: %f' % grad_difference)"
   ]
  },
  {
   "cell_type": "code",
   "execution_count": 6,
   "metadata": {
    "tags": [
     "code"
    ]
   },
   "outputs": [
    {
     "name": "stdout",
     "output_type": "stream",
     "text": [
      "lr 1.000000e-07 rg_l2 2.000000e+02 rg_l1 0.000000e+00 train accuracy: 0.147571 val accuracy: 0.128000\n",
      "lr 1.000000e-07 rg_l2 2.000000e+02 rg_l1 1.000000e+00 train accuracy: 0.177837 val accuracy: 0.165000\n",
      "lr 1.000000e-07 rg_l2 2.000000e+02 rg_l1 2.500000e+02 train accuracy: 0.164918 val accuracy: 0.165000\n",
      "lr 1.000000e-07 rg_l2 2.000000e+02 rg_l1 5.000000e+02 train accuracy: 0.162163 val accuracy: 0.168000\n",
      "lr 1.000000e-07 rg_l2 2.000000e+03 rg_l1 0.000000e+00 train accuracy: 0.174755 val accuracy: 0.165000\n",
      "lr 1.000000e-07 rg_l2 2.000000e+03 rg_l1 1.000000e+00 train accuracy: 0.176571 val accuracy: 0.176000\n",
      "lr 1.000000e-07 rg_l2 2.000000e+03 rg_l1 2.500000e+02 train accuracy: 0.157837 val accuracy: 0.153000\n",
      "lr 1.000000e-07 rg_l2 2.000000e+03 rg_l1 5.000000e+02 train accuracy: 0.164959 val accuracy: 0.170000\n",
      "lr 1.000000e-07 rg_l2 2.500000e+04 rg_l1 0.000000e+00 train accuracy: 0.193224 val accuracy: 0.196000\n",
      "lr 1.000000e-07 rg_l2 2.500000e+04 rg_l1 1.000000e+00 train accuracy: 0.214429 val accuracy: 0.219000\n",
      "lr 1.000000e-07 rg_l2 2.500000e+04 rg_l1 2.500000e+02 train accuracy: 0.213918 val accuracy: 0.239000\n",
      "lr 1.000000e-07 rg_l2 2.500000e+04 rg_l1 5.000000e+02 train accuracy: 0.196082 val accuracy: 0.196000\n",
      "lr 1.000000e-07 rg_l2 5.000000e+04 rg_l1 0.000000e+00 train accuracy: 0.233347 val accuracy: 0.231000\n",
      "lr 1.000000e-07 rg_l2 5.000000e+04 rg_l1 1.000000e+00 train accuracy: 0.241408 val accuracy: 0.263000\n",
      "lr 1.000000e-07 rg_l2 5.000000e+04 rg_l1 2.500000e+02 train accuracy: 0.245000 val accuracy: 0.245000\n",
      "lr 1.000000e-07 rg_l2 5.000000e+04 rg_l1 5.000000e+02 train accuracy: 0.244755 val accuracy: 0.257000\n",
      "lr 5.000000e-07 rg_l2 2.000000e+02 rg_l1 0.000000e+00 train accuracy: 0.230347 val accuracy: 0.254000\n",
      "lr 5.000000e-07 rg_l2 2.000000e+02 rg_l1 1.000000e+00 train accuracy: 0.236327 val accuracy: 0.239000\n",
      "lr 5.000000e-07 rg_l2 2.000000e+02 rg_l1 2.500000e+02 train accuracy: 0.233816 val accuracy: 0.226000\n",
      "lr 5.000000e-07 rg_l2 2.000000e+02 rg_l1 5.000000e+02 train accuracy: 0.227592 val accuracy: 0.241000\n",
      "lr 5.000000e-07 rg_l2 2.000000e+03 rg_l1 0.000000e+00 train accuracy: 0.246082 val accuracy: 0.247000\n",
      "lr 5.000000e-07 rg_l2 2.000000e+03 rg_l1 1.000000e+00 train accuracy: 0.248449 val accuracy: 0.237000\n",
      "lr 5.000000e-07 rg_l2 2.000000e+03 rg_l1 2.500000e+02 train accuracy: 0.255449 val accuracy: 0.266000\n",
      "lr 5.000000e-07 rg_l2 2.000000e+03 rg_l1 5.000000e+02 train accuracy: 0.255776 val accuracy: 0.251000\n",
      "lr 5.000000e-07 rg_l2 2.500000e+04 rg_l1 0.000000e+00 train accuracy: 0.331490 val accuracy: 0.347000\n",
      "lr 5.000000e-07 rg_l2 2.500000e+04 rg_l1 1.000000e+00 train accuracy: 0.325714 val accuracy: 0.343000\n",
      "lr 5.000000e-07 rg_l2 2.500000e+04 rg_l1 2.500000e+02 train accuracy: 0.321122 val accuracy: 0.337000\n",
      "lr 5.000000e-07 rg_l2 2.500000e+04 rg_l1 5.000000e+02 train accuracy: 0.325857 val accuracy: 0.347000\n",
      "lr 5.000000e-07 rg_l2 5.000000e+04 rg_l1 0.000000e+00 train accuracy: 0.303265 val accuracy: 0.323000\n",
      "lr 5.000000e-07 rg_l2 5.000000e+04 rg_l1 1.000000e+00 train accuracy: 0.305592 val accuracy: 0.317000\n",
      "lr 5.000000e-07 rg_l2 5.000000e+04 rg_l1 2.500000e+02 train accuracy: 0.297408 val accuracy: 0.322000\n",
      "lr 5.000000e-07 rg_l2 5.000000e+04 rg_l1 5.000000e+02 train accuracy: 0.296184 val accuracy: 0.316000\n",
      "lr 1.000000e-06 rg_l2 2.000000e+02 rg_l1 0.000000e+00 train accuracy: 0.265980 val accuracy: 0.248000\n",
      "lr 1.000000e-06 rg_l2 2.000000e+02 rg_l1 1.000000e+00 train accuracy: 0.266082 val accuracy: 0.302000\n",
      "lr 1.000000e-06 rg_l2 2.000000e+02 rg_l1 2.500000e+02 train accuracy: 0.268184 val accuracy: 0.257000\n",
      "lr 1.000000e-06 rg_l2 2.000000e+02 rg_l1 5.000000e+02 train accuracy: 0.265388 val accuracy: 0.257000\n",
      "lr 1.000000e-06 rg_l2 2.000000e+03 rg_l1 0.000000e+00 train accuracy: 0.311735 val accuracy: 0.319000\n",
      "lr 1.000000e-06 rg_l2 2.000000e+03 rg_l1 1.000000e+00 train accuracy: 0.306633 val accuracy: 0.311000\n",
      "lr 1.000000e-06 rg_l2 2.000000e+03 rg_l1 2.500000e+02 train accuracy: 0.308857 val accuracy: 0.311000\n",
      "lr 1.000000e-06 rg_l2 2.000000e+03 rg_l1 5.000000e+02 train accuracy: 0.314714 val accuracy: 0.317000\n",
      "lr 1.000000e-06 rg_l2 2.500000e+04 rg_l1 0.000000e+00 train accuracy: 0.312939 val accuracy: 0.342000\n",
      "lr 1.000000e-06 rg_l2 2.500000e+04 rg_l1 1.000000e+00 train accuracy: 0.329286 val accuracy: 0.350000\n",
      "lr 1.000000e-06 rg_l2 2.500000e+04 rg_l1 2.500000e+02 train accuracy: 0.313653 val accuracy: 0.333000\n",
      "lr 1.000000e-06 rg_l2 2.500000e+04 rg_l1 5.000000e+02 train accuracy: 0.314939 val accuracy: 0.320000\n",
      "lr 1.000000e-06 rg_l2 5.000000e+04 rg_l1 0.000000e+00 train accuracy: 0.313776 val accuracy: 0.314000\n",
      "lr 1.000000e-06 rg_l2 5.000000e+04 rg_l1 1.000000e+00 train accuracy: 0.300878 val accuracy: 0.310000\n",
      "lr 1.000000e-06 rg_l2 5.000000e+04 rg_l1 2.500000e+02 train accuracy: 0.294143 val accuracy: 0.306000\n",
      "lr 1.000000e-06 rg_l2 5.000000e+04 rg_l1 5.000000e+02 train accuracy: 0.301878 val accuracy: 0.307000\n",
      "lr 1.000000e-05 rg_l2 2.000000e+02 rg_l1 0.000000e+00 train accuracy: 0.281510 val accuracy: 0.281000\n",
      "lr 1.000000e-05 rg_l2 2.000000e+02 rg_l1 1.000000e+00 train accuracy: 0.222857 val accuracy: 0.225000\n",
      "lr 1.000000e-05 rg_l2 2.000000e+02 rg_l1 2.500000e+02 train accuracy: 0.318429 val accuracy: 0.333000\n",
      "lr 1.000000e-05 rg_l2 2.000000e+02 rg_l1 5.000000e+02 train accuracy: 0.280612 val accuracy: 0.267000\n",
      "lr 1.000000e-05 rg_l2 2.000000e+03 rg_l1 0.000000e+00 train accuracy: 0.269102 val accuracy: 0.284000\n",
      "lr 1.000000e-05 rg_l2 2.000000e+03 rg_l1 1.000000e+00 train accuracy: 0.210163 val accuracy: 0.209000\n",
      "lr 1.000000e-05 rg_l2 2.000000e+03 rg_l1 2.500000e+02 train accuracy: 0.263510 val accuracy: 0.263000\n",
      "lr 1.000000e-05 rg_l2 2.000000e+03 rg_l1 5.000000e+02 train accuracy: 0.189816 val accuracy: 0.193000\n",
      "lr 1.000000e-05 rg_l2 2.500000e+04 rg_l1 0.000000e+00 train accuracy: 0.166469 val accuracy: 0.174000\n",
      "lr 1.000000e-05 rg_l2 2.500000e+04 rg_l1 1.000000e+00 train accuracy: 0.126347 val accuracy: 0.120000\n",
      "lr 1.000000e-05 rg_l2 2.500000e+04 rg_l1 2.500000e+02 train accuracy: 0.134857 val accuracy: 0.144000\n",
      "lr 1.000000e-05 rg_l2 2.500000e+04 rg_l1 5.000000e+02 train accuracy: 0.119959 val accuracy: 0.110000\n",
      "lr 1.000000e-05 rg_l2 5.000000e+04 rg_l1 0.000000e+00 train accuracy: 0.065878 val accuracy: 0.059000\n",
      "lr 1.000000e-05 rg_l2 5.000000e+04 rg_l1 1.000000e+00 train accuracy: 0.104429 val accuracy: 0.104000\n",
      "lr 1.000000e-05 rg_l2 5.000000e+04 rg_l1 2.500000e+02 train accuracy: 0.146510 val accuracy: 0.126000\n",
      "lr 1.000000e-05 rg_l2 5.000000e+04 rg_l1 5.000000e+02 train accuracy: 0.081449 val accuracy: 0.080000\n",
      "best validation accuracy achieved during cross-validation: 0.350000\n"
     ]
    }
   ],
   "source": [
    "# Use the validation set to tune hyperparameters (regularization strength and\n",
    "# learning rate). You should experiment with different ranges for the learning\n",
    "# rates and regularization strengths; if you are careful you should be able to\n",
    "# get a classification accuracy of over 0.35 on the validation set.\n",
    "from comp411.classifiers import Softmax\n",
    "results = {}\n",
    "best_val = -1\n",
    "best_softmax = None\n",
    "\n",
    "################################################################################\n",
    "# TODO:                                                                        #\n",
    "# Use the validation set to set the learning rate and regularization strength. #\n",
    "# This should be similar to the validation that you did for the SVM; save      #\n",
    "# the best trained softmax classifer in best_softmax.                          #\n",
    "################################################################################\n",
    "\n",
    "# Provided as a reference. You may or may not want to change these hyperparameters\n",
    "learning_rates = [1e-7, 5e-7, 1e-6, 1e-5]\n",
    "regularization_strengths_l2 = [2.5e4, 5e4, 2e3, 2e2]\n",
    "regularization_strengths_l1 = [0, 2.5e2, 5e2, 1]\n",
    "\n",
    "# *****START OF YOUR CODE (DO NOT DELETE/MODIFY THIS LINE)*****\n",
    "from itertools import product\n",
    "for lr, reg_l2, reg_l1 in product(learning_rates, regularization_strengths_l2, regularization_strengths_l1):\n",
    "    softmax = Softmax()\n",
    "    softmax.train(X_train, y_train, learning_rate=lr, reg=reg_l2, reg_l1=reg_l1, num_iters=200)\n",
    "\n",
    "    train_acc = (softmax.predict(X_train) == y_train).mean()\n",
    "    valid_acc = (softmax.predict(X_val) == y_val).mean()\n",
    "\n",
    "    results[(lr, reg_l2, reg_l1)] = (train_acc, valid_acc)\n",
    "    if valid_acc > best_val:\n",
    "        best_val = valid_acc\n",
    "        best_softmax = softmax\n",
    "\n",
    "# *****END OF YOUR CODE (DO NOT DELETE/MODIFY THIS LINE)*****\n",
    "    \n",
    "# Print out results.\n",
    "for lr, rg_l2, rg_l1 in sorted(results):\n",
    "    train_accuracy, val_accuracy = results[(lr, rg_l2,rg_l1)]\n",
    "    print('lr %e rg_l2 %e rg_l1 %e train accuracy: %f val accuracy: %f' % (\n",
    "                lr, rg_l2, rg_l1, train_accuracy, val_accuracy))\n",
    "    \n",
    "print('best validation accuracy achieved during cross-validation: %f' % best_val)"
   ]
  },
  {
   "cell_type": "code",
   "execution_count": 7,
   "metadata": {},
   "outputs": [
    {
     "name": "stdout",
     "output_type": "stream",
     "text": [
      "softmax on raw pixels final test set accuracy: 0.347000\n"
     ]
    }
   ],
   "source": [
    "# evaluate on test set\n",
    "# Evaluate the best softmax on test set\n",
    "y_test_pred = best_softmax.predict(X_test)\n",
    "test_accuracy = np.mean(y_test == y_test_pred)\n",
    "print('softmax on raw pixels final test set accuracy: %f' % (test_accuracy, ))"
   ]
  },
  {
   "cell_type": "markdown",
   "metadata": {
    "tags": [
     "pdf-inline"
    ]
   },
   "source": [
    "**Inline Question 2** - *True or False*\n",
    "\n",
    "Suppose the overall training loss is defined as the sum of the per-datapoint loss over all training examples. It is possible to add a new datapoint to a training set that would leave the SVM loss unchanged, but this is not the case with the Softmax classifier loss.\n",
    "\n",
    "$\\color{blue}{\\textit Your Answer: }$ True\n",
    "\n",
    "\n",
    "$\\color{blue}{\\textit Your Explanation: }$ In SVM loss, if true score is above certain margin and other scores are below it, it won't change the loss, however in softmax, it will change since they are percentage distributed\n",
    "\n"
   ]
  },
  {
   "cell_type": "markdown",
   "metadata": {},
   "source": [
    "**Inline Question 3** \n",
    "\n",
    "Comment on the effects of unifying L1 and L2 losses while using Elastic Net Regularization Loss? Did L2 loss achieve better when used alone or not?\n",
    "\n",
    "$\\color{blue}{\\textit Your Comment:}$ All else being equal, we can see that adding L1 regularization boosted performance a bit in the above dictionary. "
   ]
  },
  {
   "cell_type": "code",
   "execution_count": 8,
   "metadata": {},
   "outputs": [
    {
     "data": {
      "image/png": "[encoded data removed]",
      "text/plain": [
       "<Figure size 720x576 with 10 Axes>"
      ]
     },
     "metadata": {
      "needs_background": "light"
     },
     "output_type": "display_data"
    }
   ],
   "source": [
    "# Visualize the learned weights for each class\n",
    "w = best_softmax.W[:-1,:] # strip out the bias\n",
    "w = w.reshape(32, 32, 3, 10)\n",
    "\n",
    "w_min, w_max = np.min(w), np.max(w)\n",
    "\n",
    "classes = ['plane', 'car', 'bird', 'cat', 'deer', 'dog', 'frog', 'horse', 'ship', 'truck']\n",
    "for i in range(10):\n",
    "    plt.subplot(2, 5, i + 1)\n",
    "    \n",
    "    # Rescale the weights to be between 0 and 255\n",
    "    wimg = 255.0 * (w[:, :, :, i].squeeze() - w_min) / (w_max - w_min)\n",
    "    plt.imshow(wimg.astype('uint8'))\n",
    "    plt.axis('off')\n",
    "    plt.title(classes[i])"
   ]
  },
  {
   "cell_type": "code",
   "execution_count": null,
   "metadata": {},
   "outputs": [],
   "source": []
  }
 ],
 "metadata": {
  "kernelspec": {
   "display_name": "Python 3 (ipykernel)",
   "language": "python",
   "name": "python3"
  },
  "language_info": {
   "codemirror_mode": {
    "name": "ipython",
    "version": 3
   },
   "file_extension": ".py",
   "mimetype": "text/x-python",
   "name": "python",
   "nbconvert_exporter": "python",
   "pygments_lexer": "ipython3",
   "version": "3.8.13"
  },
  "vscode": {
   "interpreter": {
    "hash": "ad2bdc8ecc057115af97d19610ffacc2b4e99fae6737bb82f5d7fb13d2f2c186"
   }
  }
 },
 "nbformat": 4,
 "nbformat_minor": 4
}
