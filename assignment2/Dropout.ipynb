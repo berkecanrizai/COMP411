{
 "cells": [
  {
   "cell_type": "markdown",
   "metadata": {
    "tags": [
     "pdf-title"
    ]
   },
   "source": [
    "# Dropout\n",
    "Dropout [1] is a technique for regularizing neural networks by randomly setting some output activations to zero during the forward pass. In this exercise you will implement a dropout layer and modify your fully-connected network to optionally use dropout.\n",
    "\n",
    "[1] [Geoffrey E. Hinton et al, \"Improving neural networks by preventing co-adaptation of feature detectors\", arXiv 2012](https://arxiv.org/abs/1207.0580)"
   ]
  },
  {
   "cell_type": "code",
   "execution_count": 1,
   "metadata": {
    "pycharm": {
     "is_executing": false
    },
    "tags": [
     "pdf-ignore"
    ]
   },
   "outputs": [
    {
     "name": "stdout",
     "output_type": "stream",
     "text": [
      "run the following from the comp411 directory and try again:\n",
      "python setup.py build_ext --inplace\n",
      "You may also need to restart your iPython kernel\n"
     ]
    }
   ],
   "source": [
    "# As usual, a bit of setup\n",
    "from __future__ import print_function\n",
    "import time\n",
    "import numpy as np\n",
    "import matplotlib.pyplot as plt\n",
    "from comp411.classifiers.fc_net import *\n",
    "from comp411.data_utils import get_CIFAR10_data\n",
    "from comp411.gradient_check import eval_numerical_gradient, eval_numerical_gradient_array\n",
    "from comp411.solver import Solver\n",
    "\n",
    "%matplotlib inline\n",
    "plt.rcParams['figure.figsize'] = (10.0, 8.0) # set default size of plots\n",
    "plt.rcParams['image.interpolation'] = 'nearest'\n",
    "plt.rcParams['image.cmap'] = 'gray'\n",
    "\n",
    "# for auto-reloading external modules\n",
    "# see http://stackoverflow.com/questions/1907993/autoreload-of-modules-in-ipython\n",
    "%load_ext autoreload\n",
    "%autoreload 2\n",
    "\n",
    "def rel_error(x, y):\n",
    "  \"\"\" returns relative error \"\"\"\n",
    "  return np.max(np.abs(x - y) / (np.maximum(1e-8, np.abs(x) + np.abs(y))))"
   ]
  },
  {
   "cell_type": "code",
   "execution_count": 2,
   "metadata": {
    "pycharm": {
     "is_executing": false
    },
    "tags": [
     "pdf-ignore"
    ]
   },
   "outputs": [
    {
     "name": "stdout",
     "output_type": "stream",
     "text": [
      "X_train:  (49000, 3, 32, 32)\n",
      "y_train:  (49000,)\n",
      "X_val:  (1000, 3, 32, 32)\n",
      "y_val:  (1000,)\n",
      "X_test:  (1000, 3, 32, 32)\n",
      "y_test:  (1000,)\n"
     ]
    }
   ],
   "source": [
    "# Load the (preprocessed) CIFAR10 data.\n",
    "\n",
    "data = get_CIFAR10_data()\n",
    "for k, v in data.items():\n",
    "  print('%s: ' % k, v.shape)"
   ]
  },
  {
   "cell_type": "markdown",
   "metadata": {},
   "source": [
    "# Dropout forward pass\n",
    "In the file `comp411/layers.py`, implement the forward pass for dropout. Since dropout behaves differently during training and testing, make sure to implement the operation for both modes.\n",
    "\n",
    "Once you have done so, run the cell below to test your implementation."
   ]
  },
  {
   "cell_type": "code",
   "execution_count": 3,
   "metadata": {
    "pycharm": {
     "is_executing": false
    }
   },
   "outputs": [
    {
     "name": "stdout",
     "output_type": "stream",
     "text": [
      "Running tests with p =  0.25\n",
      "Mean of input:  9.999077326314113\n",
      "Mean of train-time output:  9.972885283063809\n",
      "Mean of test-time output:  9.999077326314113\n",
      "Fraction of train-time output set to zero:  0.75062\n",
      "Fraction of test-time output set to zero:  0.0\n",
      "\n",
      "Running tests with p =  0.4\n",
      "Mean of input:  9.999077326314113\n",
      "Mean of train-time output:  10.001915649086255\n",
      "Mean of test-time output:  9.999077326314113\n",
      "Fraction of train-time output set to zero:  0.59996\n",
      "Fraction of test-time output set to zero:  0.0\n",
      "\n",
      "Running tests with p =  0.7\n",
      "Mean of input:  9.999077326314113\n",
      "Mean of train-time output:  9.99517817724202\n",
      "Mean of test-time output:  9.999077326314113\n",
      "Fraction of train-time output set to zero:  0.30014\n",
      "Fraction of test-time output set to zero:  0.0\n",
      "\n"
     ]
    }
   ],
   "source": [
    "np.random.seed(451)\n",
    "x = np.random.randn(500, 500) + 10\n",
    "\n",
    "for p in [0.25, 0.4, 0.7]:\n",
    "  out, _ = dropout_forward(x, {'mode': 'train', 'p': p})\n",
    "  out_test, _ = dropout_forward(x, {'mode': 'test', 'p': p})\n",
    "\n",
    "  print('Running tests with p = ', p)\n",
    "  print('Mean of input: ', x.mean())\n",
    "  print('Mean of train-time output: ', out.mean())\n",
    "  print('Mean of test-time output: ', out_test.mean())\n",
    "  print('Fraction of train-time output set to zero: ', (out == 0).mean())\n",
    "  print('Fraction of test-time output set to zero: ', (out_test == 0).mean())\n",
    "  print()"
   ]
  },
  {
   "cell_type": "markdown",
   "metadata": {},
   "source": [
    "# Dropout backward pass\n",
    "In the file `comp411/layers.py`, implement the backward pass for dropout. After doing so, run the following cell to numerically gradient-check your implementation."
   ]
  },
  {
   "cell_type": "code",
   "execution_count": 4,
   "metadata": {
    "pycharm": {
     "is_executing": false
    }
   },
   "outputs": [
    {
     "name": "stdout",
     "output_type": "stream",
     "text": [
      "dx relative error:  5.445608656734099e-11\n"
     ]
    }
   ],
   "source": [
    "np.random.seed(451)\n",
    "x = np.random.randn(10, 10) + 10\n",
    "dout = np.random.randn(*x.shape)\n",
    "\n",
    "dropout_param = {'mode': 'train', 'p': 0.2, 'seed': 123}\n",
    "out, cache = dropout_forward(x, dropout_param)\n",
    "dx = dropout_backward(dout, cache)\n",
    "dx_num = eval_numerical_gradient_array(lambda xx: dropout_forward(xx, dropout_param)[0], x, dout)\n",
    "\n",
    "# Error should be around e-10 or less\n",
    "print('dx relative error: ', rel_error(dx, dx_num))"
   ]
  },
  {
   "attachments": {},
   "cell_type": "markdown",
   "metadata": {
    "tags": [
     "pdf-inline"
    ]
   },
   "source": [
    "## Inline Question 1:\n",
    "What happens if we do not divide the values being passed through inverse dropout by `p` in the dropout layer? Why does that happen?\n",
    "\n",
    "## Answer:\n",
    "We will get lower scores. Because we shut down some nodes and they don't contribute the scores. Also without this scaling, the expected value of the activations would be reduced by a factor of 1/p during training, but not during test. Thus, network might behave differently during training and test time, which can decrease the performance."
   ]
  },
  {
   "cell_type": "markdown",
   "metadata": {},
   "source": [
    "# Fully-connected nets with Dropout\n",
    "In the file `comp411/classifiers/fc_net.py`, modify your `FullyConnectedNet` implementation to use dropout. Specifically, \n",
    "if the constructor of the network receives a value that is not 1 for the `dropout` parameter, then the net should add a \n",
    "dropout layer immediately after every Leaky ReLU nonlinearity. After doing so, run the following to numerically gradient-check \n",
    "your implementation."
   ]
  },
  {
   "cell_type": "code",
   "execution_count": 5,
   "metadata": {
    "pycharm": {
     "is_executing": false
    }
   },
   "outputs": [
    {
     "name": "stdout",
     "output_type": "stream",
     "text": [
      "Running check with dropout =  1\n",
      "Initial loss:  3.378521211475258\n",
      "W1 relative error: 2.28e-06\n",
      "\n",
      "W2 relative error: 9.63e-07\n",
      "\n",
      "b1 relative error: 8.13e-08\n",
      "\n",
      "b2 relative error: 4.86e-10\n",
      "\n",
      "Running check with dropout =  0.75\n",
      "Initial loss:  3.3622682969659\n",
      "W1 relative error: 1.84e-06\n",
      "\n",
      "W2 relative error: 5.50e-07\n",
      "\n",
      "b1 relative error: 3.34e-08\n",
      "\n",
      "b2 relative error: 5.50e-10\n",
      "\n",
      "Running check with dropout =  0.5\n",
      "Initial loss:  3.3901788748635697\n",
      "W1 relative error: 1.31e-05\n",
      "\n",
      "W2 relative error: 1.42e-06\n",
      "\n",
      "b1 relative error: 1.75e-08\n",
      "\n",
      "b2 relative error: 3.78e-10\n",
      "\n"
     ]
    }
   ],
   "source": [
    "np.random.seed(451)\n",
    "N, D, H1, H2, C = 2, 15, 20, 30, 10\n",
    "X = np.random.randn(N, D)\n",
    "y = np.random.randint(C, size=(N,))\n",
    "\n",
    "for dropout in [1, 0.75, 0.5]:\n",
    "    print('Running check with dropout = ', dropout)\n",
    "    model = FullyConnectedNet([H1, H2], input_dim=D, num_classes=C,\n",
    "                            weight_scale=5e-2, dtype=np.float64,\n",
    "                            dropout=dropout, seed=123)\n",
    "\n",
    "    loss, grads = model.loss(X, y)\n",
    "    print('Initial loss: ', loss)\n",
    "  \n",
    "    # Relative errors should be around e-6 or less; Note that it's fine\n",
    "    # if you have some errors be on the order of e-3.\n",
    "    for name in sorted(grads):\n",
    "        f = lambda _: model.loss(X, y)[0]\n",
    "        grad_num = eval_numerical_gradient(f, model.params[name], verbose=False, h=1e-5)\n",
    "        print('%s relative error: %.2e' % (name, rel_error(grad_num, grads[name])))\n",
    "        print()"
   ]
  },
  {
   "cell_type": "markdown",
   "metadata": {},
   "source": [
    "# Regularization experiment\n",
    "As an experiment, we will train a pair of two-layer networks on 500 training examples: one will use no dropout, and one will use a keep probability of 0.25. We will then visualize the training and validation accuracies of the two networks over time."
   ]
  },
  {
   "cell_type": "code",
   "execution_count": 6,
   "metadata": {
    "pycharm": {
     "is_executing": false
    }
   },
   "outputs": [
    {
     "name": "stdout",
     "output_type": "stream",
     "text": [
      "1\n",
      "(Iteration 1 / 125) loss: 95.965391\n",
      "(Epoch 0 / 25) train acc: 0.000000; val_acc: 0.003000\n",
      "(Epoch 1 / 25) train acc: 0.178000; val_acc: 0.121000\n",
      "(Epoch 2 / 25) train acc: 0.228000; val_acc: 0.179000\n",
      "(Epoch 3 / 25) train acc: 0.246000; val_acc: 0.165000\n",
      "(Epoch 4 / 25) train acc: 0.296000; val_acc: 0.170000\n",
      "(Epoch 5 / 25) train acc: 0.314000; val_acc: 0.195000\n",
      "(Epoch 6 / 25) train acc: 0.346000; val_acc: 0.206000\n",
      "(Epoch 7 / 25) train acc: 0.364000; val_acc: 0.202000\n",
      "(Epoch 8 / 25) train acc: 0.406000; val_acc: 0.201000\n",
      "(Epoch 9 / 25) train acc: 0.386000; val_acc: 0.184000\n",
      "(Epoch 10 / 25) train acc: 0.426000; val_acc: 0.193000\n",
      "(Epoch 11 / 25) train acc: 0.422000; val_acc: 0.202000\n",
      "(Epoch 12 / 25) train acc: 0.454000; val_acc: 0.206000\n",
      "(Epoch 13 / 25) train acc: 0.428000; val_acc: 0.194000\n",
      "(Epoch 14 / 25) train acc: 0.460000; val_acc: 0.192000\n",
      "(Epoch 15 / 25) train acc: 0.458000; val_acc: 0.204000\n",
      "(Epoch 16 / 25) train acc: 0.530000; val_acc: 0.212000\n",
      "(Epoch 17 / 25) train acc: 0.508000; val_acc: 0.184000\n",
      "(Epoch 18 / 25) train acc: 0.502000; val_acc: 0.172000\n",
      "(Epoch 19 / 25) train acc: 0.522000; val_acc: 0.205000\n",
      "(Epoch 20 / 25) train acc: 0.612000; val_acc: 0.237000\n",
      "(Iteration 101 / 125) loss: 27.127388\n",
      "(Epoch 21 / 25) train acc: 0.566000; val_acc: 0.208000\n",
      "(Epoch 22 / 25) train acc: 0.590000; val_acc: 0.201000\n",
      "(Epoch 23 / 25) train acc: 0.630000; val_acc: 0.215000\n",
      "(Epoch 24 / 25) train acc: 0.614000; val_acc: 0.205000\n",
      "(Epoch 25 / 25) train acc: 0.584000; val_acc: 0.211000\n",
      "\n",
      "0.35\n",
      "(Iteration 1 / 125) loss: 100.667754\n",
      "(Epoch 0 / 25) train acc: 0.000000; val_acc: 0.002000\n",
      "(Epoch 1 / 25) train acc: 0.170000; val_acc: 0.136000\n",
      "(Epoch 2 / 25) train acc: 0.222000; val_acc: 0.177000\n",
      "(Epoch 3 / 25) train acc: 0.258000; val_acc: 0.151000\n",
      "(Epoch 4 / 25) train acc: 0.322000; val_acc: 0.172000\n",
      "(Epoch 5 / 25) train acc: 0.306000; val_acc: 0.179000\n",
      "(Epoch 6 / 25) train acc: 0.326000; val_acc: 0.180000\n",
      "(Epoch 7 / 25) train acc: 0.374000; val_acc: 0.173000\n",
      "(Epoch 8 / 25) train acc: 0.434000; val_acc: 0.202000\n",
      "(Epoch 9 / 25) train acc: 0.448000; val_acc: 0.207000\n",
      "(Epoch 10 / 25) train acc: 0.420000; val_acc: 0.198000\n",
      "(Epoch 11 / 25) train acc: 0.464000; val_acc: 0.222000\n",
      "(Epoch 12 / 25) train acc: 0.490000; val_acc: 0.207000\n",
      "(Epoch 13 / 25) train acc: 0.448000; val_acc: 0.167000\n",
      "(Epoch 14 / 25) train acc: 0.492000; val_acc: 0.177000\n",
      "(Epoch 15 / 25) train acc: 0.508000; val_acc: 0.198000\n",
      "(Epoch 16 / 25) train acc: 0.438000; val_acc: 0.191000\n",
      "(Epoch 17 / 25) train acc: 0.550000; val_acc: 0.221000\n",
      "(Epoch 18 / 25) train acc: 0.532000; val_acc: 0.210000\n",
      "(Epoch 19 / 25) train acc: 0.542000; val_acc: 0.192000\n",
      "(Epoch 20 / 25) train acc: 0.538000; val_acc: 0.193000\n",
      "(Iteration 101 / 125) loss: 40.227988\n",
      "(Epoch 21 / 25) train acc: 0.554000; val_acc: 0.184000\n",
      "(Epoch 22 / 25) train acc: 0.550000; val_acc: 0.200000\n",
      "(Epoch 23 / 25) train acc: 0.618000; val_acc: 0.199000\n",
      "(Epoch 24 / 25) train acc: 0.580000; val_acc: 0.203000\n",
      "(Epoch 25 / 25) train acc: 0.624000; val_acc: 0.220000\n",
      "\n"
     ]
    }
   ],
   "source": [
    "# Train two identical nets, one with dropout and one without\n",
    "np.random.seed(1)\n",
    "num_train = 500\n",
    "small_data = {\n",
    "  'X_train': data['X_train'][:num_train],\n",
    "  'y_train': data['y_train'][:num_train],\n",
    "  'X_val': data['X_val'],\n",
    "  'y_val': data['y_val'],\n",
    "}\n",
    "\n",
    "solvers = {}\n",
    "dropout_choices = [1, 0.35]\n",
    "for dropout in dropout_choices:\n",
    "    model = FullyConnectedNet([500], dropout=dropout)\n",
    "    print(dropout)\n",
    "\n",
    "    solver = Solver(model, small_data,\n",
    "                  num_epochs=25, batch_size=100,\n",
    "                  update_rule='adam',\n",
    "                  optim_config={\n",
    "                    'learning_rate': 5e-4,\n",
    "                  },\n",
    "                  verbose=True, print_every=100)\n",
    "    solver.train()\n",
    "    solvers[dropout] = solver\n",
    "    print()"
   ]
  },
  {
   "cell_type": "code",
   "execution_count": 7,
   "metadata": {
    "pycharm": {
     "is_executing": false
    }
   },
   "outputs": [
    {
     "data": {
      "image/png": "[encoded data removed]",
      "text/plain": [
       "<Figure size 1080x1080 with 2 Axes>"
      ]
     },
     "metadata": {
      "needs_background": "light"
     },
     "output_type": "display_data"
    }
   ],
   "source": [
    "# Plot train and validation accuracies of the two models\n",
    "\n",
    "train_accs = []\n",
    "val_accs = []\n",
    "for dropout in dropout_choices:\n",
    "  solver = solvers[dropout]\n",
    "  train_accs.append(solver.train_acc_history[-1])\n",
    "  val_accs.append(solver.val_acc_history[-1])\n",
    "\n",
    "plt.subplot(3, 1, 1)\n",
    "for dropout in dropout_choices:\n",
    "  plt.plot(solvers[dropout].train_acc_history, 'o', label='%.2f dropout' % dropout)\n",
    "plt.title('Train accuracy')\n",
    "plt.xlabel('Epoch')\n",
    "plt.ylabel('Accuracy')\n",
    "plt.legend(ncol=2, loc='lower right')\n",
    "  \n",
    "plt.subplot(3, 1, 2)\n",
    "for dropout in dropout_choices:\n",
    "  plt.plot(solvers[dropout].val_acc_history, 'o', label='%.2f dropout' % dropout)\n",
    "plt.title('Val accuracy')\n",
    "plt.xlabel('Epoch')\n",
    "plt.ylabel('Accuracy')\n",
    "plt.legend(ncol=2, loc='lower right')\n",
    "\n",
    "plt.gcf().set_size_inches(15, 15)\n",
    "plt.show()"
   ]
  },
  {
   "attachments": {},
   "cell_type": "markdown",
   "metadata": {
    "pycharm": {
     "name": "#%% md\n"
    },
    "tags": [
     "pdf-inline"
    ]
   },
   "source": [
    "## Inline Question 2:\n",
    "Compare the validation and training accuracies with and without dropout -- what do your results suggest about dropout as a regularizer?\n",
    "\n",
    "## Answer:\n",
    "With higher dropout the validation accuracy became better. We can say it prevents the overfitting. When the dropout is lower, during training time model learnt faster and fit more."
   ]
  },
  {
   "cell_type": "code",
   "execution_count": null,
   "metadata": {},
   "outputs": [],
   "source": []
  }
 ],
 "metadata": {
  "@webio": {
   "lastCommId": "bfb81c433eaf4e2d84b2f50c52da3398",
   "lastKernelId": "e61312a8-f76e-4b00-99fd-42c81ec258a1"
  },
  "kernelspec": {
   "display_name": "Python 3.7.10 ('comp411')",
   "language": "python",
   "name": "python3"
  },
  "language_info": {
   "codemirror_mode": {
    "name": "ipython",
    "version": 3
   },
   "file_extension": ".py",
   "mimetype": "text/x-python",
   "name": "python",
   "nbconvert_exporter": "python",
   "pygments_lexer": "ipython3",
   "version": "3.7.10 (default, Feb 26 2021, 13:06:18) [MSC v.1916 64 bit (AMD64)]"
  },
  "pycharm": {
   "stem_cell": {
    "cell_type": "raw",
    "metadata": {
     "collapsed": false
    },
    "source": []
   }
  },
  "vscode": {
   "interpreter": {
    "hash": "b8ba8b5c40d41e998c81a39cba101c6c8d020790cf4e714fd93525546646e1a1"
   }
  }
 },
 "nbformat": 4,
 "nbformat_minor": 4
}
